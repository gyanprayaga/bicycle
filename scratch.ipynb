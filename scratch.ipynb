{
 "cells": [
  {
   "cell_type": "markdown",
   "metadata": {},
   "source": [
    "# Scratch\n",
    "Bits of work which I'll eventualy integrate into the `Bicycle` class"
   ]
  },
  {
   "cell_type": "markdown",
   "metadata": {},
   "source": [
    "## The \"lollipop\" system\n",
    "We want to see how the acceleration of a flywheel mounted above the bicycle can stabilize its frame for small angles."
   ]
  },
  {
   "cell_type": "markdown",
   "metadata": {},
   "source": [
    "We'll start with values for theta and theta_dot, which will produce a believeable phi double dot vale. We can then plug that in to our system of ODEs for theta double dot."
   ]
  },
  {
   "cell_type": "code",
   "execution_count": 3,
   "metadata": {},
   "outputs": [],
   "source": [
    "import numpy as np\n",
    "from scipy.integrate import odeint\n",
    "import matplotlib.pyplot as plt\n",
    "\n",
    "g = 9.8\n",
    "\n",
    "# bicycle frame\n",
    "m = 15 # in kg\n",
    "l = 1 # in m\n",
    "\n",
    "# flywheel\n",
    "m_flywheel = 0.5 # (mass of the flywheel)\n",
    "r = 0.15 # radius of the flywheel (m)\n",
    "I = 1/2 * m_flywheel*(r**2)\n",
    "\n",
    "gamma = 1\n",
    "zeta = 2\n",
    "\n",
    "# the initial tilt angle and velocity\n",
    "theta = 0\n",
    "theta_dot = 3 # in rad/s"
   ]
  },
  {
   "cell_type": "code",
   "execution_count": 4,
   "metadata": {},
   "outputs": [],
   "source": [
    "phi_double_dot = ((m*(l**2))/I)*(theta*(g/l + gamma) - zeta*theta_dot)"
   ]
  },
  {
   "cell_type": "code",
   "execution_count": 5,
   "metadata": {},
   "outputs": [
    {
     "name": "stdout",
     "output_type": "stream",
     "text": [
      "phi double dot:  -16000.000000000002\n"
     ]
    }
   ],
   "source": [
    "print('phi double dot: ', phi_double_dot)"
   ]
  },
  {
   "cell_type": "markdown",
   "metadata": {},
   "source": [
    "Lets now plug in this value for phi double dot into our systme of ODEs for theta double dot"
   ]
  },
  {
   "cell_type": "code",
   "execution_count": 6,
   "metadata": {},
   "outputs": [],
   "source": [
    "thetadoubledot = theta*(g/l + gamma) - (I/m*l**2)*phi_double_dot + gamma*theta_dot"
   ]
  },
  {
   "cell_type": "code",
   "execution_count": 7,
   "metadata": {},
   "outputs": [
    {
     "data": {
      "text/plain": [
       "9.0"
      ]
     },
     "execution_count": 7,
     "metadata": {},
     "output_type": "execute_result"
    }
   ],
   "source": [
    "thetadoubledot"
   ]
  },
  {
   "cell_type": "markdown",
   "metadata": {},
   "source": [
    "So theta double dot is equal to 9 for the initial values. Now we want to break this equation into two first-order diff eqs."
   ]
  },
  {
   "cell_type": "code",
   "execution_count": 12,
   "metadata": {},
   "outputs": [],
   "source": [
    "# theta'(t) = omega(t)\n",
    "# omega'(t) = theta*(g/l + gamma) - (zeta*omega) - phi_double_dot\n",
    "\n",
    "def lollipop(y, t):\n",
    "    theta, omega = y\n",
    "    dydt = [omega, theta*(g/l + gamma) - (zeta*omega) - phi_double_dot]\n",
    "    return dydt\n",
    "\n",
    "y0 = [np.pi - 0.1, 0.0] # I'm not sure this is the correct initial cond vector\n",
    "\n",
    "t = np.linspace(0, 10, 101)\n",
    "\n",
    "sol = odeint(lollipop, y0, t)\n",
    "\n",
    "# print(sol)\n"
   ]
  },
  {
   "cell_type": "markdown",
   "metadata": {},
   "source": [
    "Lets plot our results..."
   ]
  },
  {
   "cell_type": "code",
   "execution_count": 13,
   "metadata": {},
   "outputs": [
    {
     "data": {
      "image/png": "[encoded data removed]",
      "text/plain": [
       "<Figure size 432x288 with 1 Axes>"
      ]
     },
     "metadata": {
      "needs_background": "light"
     },
     "output_type": "display_data"
    }
   ],
   "source": [
    "import matplotlib.pyplot as plt\n",
    "plt.plot(t, sol[:, 0], 'b', label='theta(t)')\n",
    "plt.plot(t, sol[:, 1], 'g', label='omega(t)')\n",
    "plt.legend(loc='best')\n",
    "plt.xlabel('t')\n",
    "plt.grid()\n",
    "plt.show()"
   ]
  },
  {
   "cell_type": "code",
   "execution_count": null,
   "metadata": {},
   "outputs": [],
   "source": [
    "# # reference\n",
    "# theta'(t) = omega(t)\n",
    "# omega'(t) = -b*omega(t) - c*sin(theta(t))\n",
    "\n",
    "# def pend(y, t, b, c):\n",
    "#     theta, omega = y\n",
    "#     dydt = [omega, -b*omega - c*np.sin(theta)]\n",
    "#     return dydt"
   ]
  },
  {
   "cell_type": "code",
   "execution_count": null,
   "metadata": {},
   "outputs": [],
   "source": []
  },
  {
   "cell_type": "code",
   "execution_count": null,
   "metadata": {},
   "outputs": [],
   "source": []
  },
  {
   "cell_type": "code",
   "execution_count": null,
   "metadata": {},
   "outputs": [],
   "source": []
  },
  {
   "cell_type": "code",
   "execution_count": null,
   "metadata": {},
   "outputs": [],
   "source": []
  },
  {
   "cell_type": "code",
   "execution_count": null,
   "metadata": {},
   "outputs": [],
   "source": []
  },
  {
   "cell_type": "code",
   "execution_count": null,
   "metadata": {},
   "outputs": [],
   "source": []
  },
  {
   "cell_type": "code",
   "execution_count": null,
   "metadata": {},
   "outputs": [],
   "source": []
  },
  {
   "cell_type": "markdown",
   "metadata": {},
   "source": [
    "Archived"
   ]
  },
  {
   "cell_type": "code",
   "execution_count": 14,
   "metadata": {},
   "outputs": [
    {
     "ename": "SyntaxError",
     "evalue": "invalid syntax (<ipython-input-14-599044fb5972>, line 13)",
     "output_type": "error",
     "traceback": [
      "\u001b[0;36m  File \u001b[0;32m\"<ipython-input-14-599044fb5972>\"\u001b[0;36m, line \u001b[0;32m13\u001b[0m\n\u001b[0;31m    zeta = # damping coefficient\u001b[0m\n\u001b[0m                                ^\u001b[0m\n\u001b[0;31mSyntaxError\u001b[0m\u001b[0;31m:\u001b[0m invalid syntax\n"
     ]
    }
   ],
   "source": [
    "import numpy as np\n",
    "from scipy.integrate import odeint\n",
    "import matplotlib.pyplot as plt\n",
    "\n",
    "t = np.linspace(0, 10, 101)\n",
    "\n",
    "g = 9.8\n",
    "\n",
    "m = .5\n",
    "l = 1 # 1 meter for now, we can tweak later... (its the height of the bike frame)\n",
    "I = .5 * m * l**2\n",
    "\n",
    "zeta = # damping coefficient\n",
    "gamma = #some proportionality constant, fidde with it\n",
    "\n",
    "def lollipop():\n",
    "    # could make some determinances within the function\n",
    "    \n",
    "    \"\"\"our lollipop equation\"\"\":\n",
    "    d = ((m*l**2)/I) * (theta(g/l + gamma) - zeta*omega)\n",
    "   \n",
    "    # TODO: split into two first order equations\n",
    "    \n",
    "    # could print out the time steps here\n",
    "    \n",
    "    return alpha\n",
    "\n",
    "\n",
    "\n",
    "# sol = odeint(lollipop, y0, t, args=(b, c))"
   ]
  },
  {
   "cell_type": "code",
   "execution_count": null,
   "metadata": {},
   "outputs": [],
   "source": []
  },
  {
   "cell_type": "code",
   "execution_count": null,
   "metadata": {},
   "outputs": [],
   "source": []
  }
 ],
 "metadata": {
  "kernelspec": {
   "display_name": "Python 3",
   "language": "python",
   "name": "python3"
  },
  "language_info": {
   "codemirror_mode": {
    "name": "ipython",
    "version": 3
   },
   "file_extension": ".py",
   "mimetype": "text/x-python",
   "name": "python",
   "nbconvert_exporter": "python",
   "pygments_lexer": "ipython3",
   "version": "3.7.4"
  }
 },
 "nbformat": 4,
 "nbformat_minor": 2
}
